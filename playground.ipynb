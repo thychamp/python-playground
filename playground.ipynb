{
 "cells": [
  {
   "cell_type": "markdown",
   "metadata": {},
   "source": [
    "# 🐍 Welcome to Python Playground!\n",
    "\n",
    "This Jupyter notebook demonstrates the capabilities of your Python development environment in GitHub Codespaces."
   ]
  },
  {
   "cell_type": "code",
   "execution_count": null,
   "metadata": {},
   "outputs": [],
   "source": [
    "# Basic Python example\n",
    "print(\"🚀 Hello from Jupyter in Codespaces!\")\n",
    "print(\"Python version:\")\n",
    "import sys\n",
    "print(sys.version)"
   ]
  },
  {
   "cell_type": "code",
   "execution_count": null,
   "metadata": {},
   "outputs": [],
   "source": [
    "# Data science example (uncomment after libraries are installed)\n",
    "# import numpy as np\n",
    "# import pandas as pd\n",
    "# import matplotlib.pyplot as plt\n",
    "\n",
    "# # Create some sample data\n",
    "# data = np.random.randn(100)\n",
    "# df = pd.DataFrame({'values': data})\n",
    "\n",
    "# # Simple plot\n",
    "# plt.figure(figsize=(10, 6))\n",
    "# plt.hist(data, bins=20, alpha=0.7)\n",
    "# plt.title('Sample Data Distribution')\n",
    "# plt.xlabel('Value')\n",
    "# plt.ylabel('Frequency')\n",
    "# plt.show()\n",
    "\n",
    "print(\"📊 Uncomment the code above after the environment is set up!\")"
   ]
  },
  {
   "cell_type": "code",
   "execution_count": null,
   "metadata": {},
   "outputs": [],
   "source": [
    "# Interactive example\n",
    "def fibonacci(n):\n",
    "    \"\"\"Generate Fibonacci sequence up to n terms.\"\"\"\n",
    "    sequence = []\n",
    "    a, b = 0, 1\n",
    "    for _ in range(n):\n",
    "        sequence.append(a)\n",
    "        a, b = b, a + b\n",
    "    return sequence\n",
    "\n",
    "# Generate and display Fibonacci sequence\n",
    "fib_sequence = fibonacci(10)\n",
    "print(f\"First 10 Fibonacci numbers: {fib_sequence}\")"
   ]
  },
  {
   "cell_type": "markdown",
   "metadata": {},
   "source": [
    "## 🎯 Next Steps\n",
    "\n",
    "1. **Experiment**: Try writing your own Python code in the cells above\n",
    "2. **Explore**: Check out the installed libraries in `requirements.txt`\n",
    "3. **Learn**: Use this environment to practice Python concepts\n",
    "4. **Build**: Create your own projects and experiments\n",
    "\n",
    "Happy coding! 🎉"
   ]
  }
 ],
 "metadata": {
  "kernelspec": {
   "display_name": "Python 3",
   "language": "python",
   "name": "python3"
  },
  "language_info": {
   "codemirror_mode": {
    "name": "ipython",
    "version": 3
   },
   "file_extension": ".py",
   "mimetype": "text/x-python",
   "name": "python",
   "nbconvert_exporter": "python",
   "pygments_lexer": "ipython3",
   "version": "3.11.0"
  }
 },
 "nbformat": 4,
 "nbformat_minor": 4
}